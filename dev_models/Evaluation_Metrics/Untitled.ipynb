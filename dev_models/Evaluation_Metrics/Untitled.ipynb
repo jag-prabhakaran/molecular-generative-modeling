{
 "cells": [
  {
   "cell_type": "code",
   "execution_count": 47,
   "id": "f13a4f67-0b74-4c10-8e1f-049d44bdda2d",
   "metadata": {},
   "outputs": [],
   "source": [
    "import pandas as pd\n",
    "import numpy as np\n",
    "from structural_statistics import *\n",
    "from scipy.spatial import distance"
   ]
  },
  {
   "cell_type": "code",
   "execution_count": 48,
   "id": "c1a578a2-12f0-4ffa-ba06-a6da0e3314ea",
   "metadata": {},
   "outputs": [],
   "source": [
    "df = pd.read_csv('results_logp06.csv',header=None,delimiter=' ')"
   ]
  },
  {
   "cell_type": "code",
   "execution_count": 49,
   "id": "830f0449-d3d0-44f1-9429-527c2a3f5995",
   "metadata": {},
   "outputs": [],
   "source": [
    "input_mol = np.unique(df[0].to_numpy())"
   ]
  },
  {
   "cell_type": "code",
   "execution_count": 50,
   "id": "33e7da50-47f4-4ea6-a609-f585f7d0bc55",
   "metadata": {},
   "outputs": [],
   "source": [
    "output_mol = np.unique(df[1].to_numpy())"
   ]
  },
  {
   "cell_type": "code",
   "execution_count": 51,
   "id": "8e8c02f4-90f0-45a2-b0ba-796fcd39189b",
   "metadata": {},
   "outputs": [],
   "source": [
    "input_scaf = compute_scaffolds(input_mol)"
   ]
  },
  {
   "cell_type": "code",
   "execution_count": 52,
   "id": "6b5a2817-53a9-41f7-9774-a73ede22cbf5",
   "metadata": {},
   "outputs": [],
   "source": [
    "output_scaf = compute_scaffolds(output_mol)"
   ]
  },
  {
   "cell_type": "code",
   "execution_count": 74,
   "id": "989d83e7-1505-4a6d-862b-286244cc0cdb",
   "metadata": {},
   "outputs": [],
   "source": [
    "input_frag = compute_fragments(input_mol)"
   ]
  },
  {
   "cell_type": "code",
   "execution_count": 75,
   "id": "eab3cbad-6ff1-4ba5-929c-5ec272887df7",
   "metadata": {},
   "outputs": [],
   "source": [
    "output_frag = compute_fragments(output_mol)"
   ]
  },
  {
   "cell_type": "code",
   "execution_count": 55,
   "id": "f861ff63-25d6-4e89-b6c1-f5e1c0a75c6a",
   "metadata": {},
   "outputs": [],
   "source": [
    "from collections import Counter"
   ]
  },
  {
   "cell_type": "code",
   "execution_count": 56,
   "id": "716ed8e1-32ce-42ec-825c-c4f852e02999",
   "metadata": {},
   "outputs": [],
   "source": [
    "inp_count_scaf = Counter(input_scaf)\n",
    "out_count_scaf = Counter(output_scaf)"
   ]
  },
  {
   "cell_type": "code",
   "execution_count": 57,
   "id": "374c8286-9452-4d74-bfff-5de28e32e4f3",
   "metadata": {},
   "outputs": [],
   "source": [
    "from itertools import chain\n",
    "input_frag = list(chain(*input_frag))\n",
    "output_frag = list(chain(*output_frag))"
   ]
  },
  {
   "cell_type": "code",
   "execution_count": 58,
   "id": "6d3141a4-8af8-4119-b7af-fd99cb807f54",
   "metadata": {},
   "outputs": [],
   "source": [
    "inp_count_frag = Counter(input_frag)\n",
    "out_count_frag = Counter(output_frag)"
   ]
  },
  {
   "cell_type": "code",
   "execution_count": 62,
   "id": "f15bfd5f-ed03-4162-acfd-84ecadb3b144",
   "metadata": {},
   "outputs": [],
   "source": [
    "ref_counts = inp_count_scaf\n",
    "gen_counts = out_count_scaf"
   ]
  },
  {
   "cell_type": "code",
   "execution_count": 60,
   "id": "744add6b-430f-42d1-a2f2-b1a0c0b87222",
   "metadata": {},
   "outputs": [],
   "source": [
    "del ref_counts[None]\n",
    "del gen_counts[None]"
   ]
  },
  {
   "cell_type": "code",
   "execution_count": 76,
   "id": "1e0e30e3-7d24-4e74-b079-a02c13cb56ad",
   "metadata": {},
   "outputs": [],
   "source": [
    "ref_counts = inp_count_frag\n",
    "gen_counts = out_count_frag"
   ]
  },
  {
   "cell_type": "code",
   "execution_count": 77,
   "id": "c820ddf9-4943-4385-8e3a-a700cc7642a7",
   "metadata": {},
   "outputs": [],
   "source": [
    "keys = np.unique(list(ref_counts.keys()) + list(gen_counts.keys()))\n",
    "ref_vec = np.array([ref_counts.get(k, 0) for k in keys])\n",
    "gen_vec = np.array([gen_counts.get(k, 0) for k in keys])"
   ]
  },
  {
   "cell_type": "code",
   "execution_count": 64,
   "id": "19ca32d6-1bb0-412e-9037-dda00e81e4c4",
   "metadata": {},
   "outputs": [
    {
     "data": {
      "text/plain": [
       "0.6719620194330429"
      ]
     },
     "execution_count": 64,
     "metadata": {},
     "output_type": "execute_result"
    }
   ],
   "source": [
    "distance.cosine(ref_vec,gen_vec)"
   ]
  },
  {
   "cell_type": "code",
   "execution_count": 78,
   "id": "f3030c06-4a1a-4687-b84a-caaaa6e73090",
   "metadata": {},
   "outputs": [
    {
     "data": {
      "text/plain": [
       "0.04262279739015351"
      ]
     },
     "execution_count": 78,
     "metadata": {},
     "output_type": "execute_result"
    }
   ],
   "source": [
    "distance.cosine(ref_vec,gen_vec)"
   ]
  },
  {
   "cell_type": "code",
   "execution_count": 72,
   "id": "0f6078a7-96a4-4ddb-9825-cbd05fb10f5a",
   "metadata": {},
   "outputs": [],
   "source": [
    "inp_fp = np.array(inp_fp)\n",
    "out_fp = np.array(out_fp)"
   ]
  },
  {
   "cell_type": "code",
   "execution_count": 68,
   "id": "acfb77dc-6e25-406c-be9c-e1d45c13995a",
   "metadata": {},
   "outputs": [],
   "source": [
    "inp_fp = fingerprints(input_mol,fp_type='maccs')\n",
    "out_fp = fingerprints(output_mol,fp_type='maccs')"
   ]
  },
  {
   "cell_type": "code",
   "execution_count": 73,
   "id": "c2ac0ba0-5dbe-4997-bc5a-10200ac7917d",
   "metadata": {},
   "outputs": [
    {
     "data": {
      "text/plain": [
       "0.8491316748605473"
      ]
     },
     "execution_count": 73,
     "metadata": {},
     "output_type": "execute_result"
    }
   ],
   "source": [
    "average_agg_tanimoto(inp_fp,out_fp)"
   ]
  },
  {
   "cell_type": "code",
   "execution_count": null,
   "id": "45239dc0-ac5c-4945-8a9d-b8f986426630",
   "metadata": {},
   "outputs": [],
   "source": []
  }
 ],
 "metadata": {
  "kernelspec": {
   "display_name": "old-f2022-s2023",
   "language": "python",
   "name": "old-f2022-s2023"
  },
  "language_info": {
   "codemirror_mode": {
    "name": "ipython",
    "version": 3
   },
   "file_extension": ".py",
   "mimetype": "text/x-python",
   "name": "python",
   "nbconvert_exporter": "python",
   "pygments_lexer": "ipython3",
   "version": "3.10.7"
  }
 },
 "nbformat": 4,
 "nbformat_minor": 5
}
